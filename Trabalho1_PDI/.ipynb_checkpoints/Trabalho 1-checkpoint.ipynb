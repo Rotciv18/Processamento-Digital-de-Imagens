{
 "cells": [
  {
   "cell_type": "code",
   "execution_count": 140,
   "metadata": {},
   "outputs": [],
   "source": [
    "import cv2 as cv\n",
    "import numpy as np\n",
    "import matplotlib.pyplot as plt\n",
    "\n",
    "from math import floor\n",
    "from skimage import color\n",
    "from matplotlib import pyplot as plt\n",
    "from collections import Counter\n",
    "from statistics import mode\n",
    "from statistics import mean\n",
    "from statistics import median\n",
    "from scipy import stats\n",
    "\n",
    "#Lendo a imagem, lembrando que openCV lê BGR.\n",
    "leninha = cv.imread('lena.png')\n",
    "triangulo = cv.imread('CNN1.png')\n",
    "mulher = cv.imread('2817540617.jpg')\n",
    "dpreview = cv.imread('IMG_0103.png')\n",
    "lena = cv.imread('testpat.1k.png')\n",
    "mulherpequena = cv.imread('mulherpequena.png')\n",
    "\n",
    "#Função shape dá a altura, largura e as bandas da imagem, nessa sequência.\n",
    "#triangulo.shape \n",
    "#mulher.shape\n",
    "#dpreview.shape\n",
    "#lena.shape\n",
    "\n",
    "#cv.imshow(\"triangulo\", triangulo)\n",
    "#cv.imshow(\"mulher\", mulher)\n",
    "#cv.imshow(\"dpreview\", dpreview)\n",
    "#cv.imshow(\"lena\", lena)\n",
    "#cv.waitKey(0)"
   ]
  },
  {
   "cell_type": "markdown",
   "metadata": {},
   "source": [
    "## 1. Conversão RGB para YIQ e de volta para RGB\n"
   ]
  },
  {
   "cell_type": "code",
   "execution_count": 2,
   "metadata": {},
   "outputs": [],
   "source": [
    "def rgb2yiq(imagem):\n",
    "    largura,altura,banda = imagem.shape\n",
    "    Y = np.zeros((largura, altura))\n",
    "    I = np.zeros((largura, altura))\n",
    "    Q = np.zeros((largura, altura))\n",
    "    for coluna in range(altura):\n",
    "        for linha in range(largura):\n",
    "            Y[linha,coluna] = (0.299*imagem[linha,coluna,2]) + (0.587*imagem[linha,coluna,1]) + (0.114*imagem[linha,coluna,0]) \n",
    "            I[linha,coluna] = (0.596*imagem[linha,coluna,2]) - (0.274*imagem[linha,coluna,1]) - (0.322*imagem[linha,coluna,0] )\n",
    "            Q[linha,coluna] = (0.211*imagem[linha,coluna,2]) - (0.523*imagem[linha,coluna,1]) + (0.312*imagem[linha,coluna,0] )\n",
    "    YIQ = cv.merge((Q/255, I/255, Y/255))\n",
    "    return YIQ"
   ]
  },
  {
   "cell_type": "code",
   "execution_count": 3,
   "metadata": {},
   "outputs": [],
   "source": [
    "def yiq2rgb(imagem):\n",
    "    largura, altura, banda = imagem.shape\n",
    "    R = np.zeros((largura, altura))\n",
    "    G = np.zeros((largura, altura))\n",
    "    B = np.zeros((largura, altura))\n",
    "    for coluna in range(altura):\n",
    "        for linha in range(largura):\n",
    "            R[linha,coluna] = 1.0*imagem[linha,coluna,2] + 0.956*imagem[linha,coluna,1] + 0.621*imagem[linha,coluna,0]\n",
    "            G[linha,coluna] = 1.0*imagem[linha,coluna,2] - 0.272*imagem[linha,coluna,1] - 0.647*imagem[linha,coluna,0]\n",
    "            B[linha,coluna] = 1.0*imagem[linha,coluna,2] - 1.106*imagem[linha,coluna,1] + 1.703*imagem[linha,coluna,0]\n",
    "            \n",
    "            if(R[linha,coluna]<0):\n",
    "                R[linha,coluna]=0\n",
    "            if(R[linha,coluna]>1):\n",
    "                R[linha,coluna]=1\n",
    "            if(G[linha,coluna]<0):\n",
    "                G[linha,coluna]=0\n",
    "            if(G[linha,coluna]>1):\n",
    "                G[linha,coluna]=1\n",
    "            if(B[linha,coluna]<0):\n",
    "                B[linha,coluna]=0\n",
    "            if(B[linha,coluna]>1):\n",
    "                B[linha,coluna]=1\n",
    "            \n",
    "    RGB = cv.merge((B*255, G*255, R*255))\n",
    "    \n",
    "    RGB = RGB.astype(np.uint8)\n",
    "    return RGB"
   ]
  },
  {
   "cell_type": "code",
   "execution_count": 95,
   "metadata": {},
   "outputs": [
    {
     "data": {
      "text/plain": [
       "-1"
      ]
     },
     "execution_count": 95,
     "metadata": {},
     "output_type": "execute_result"
    }
   ],
   "source": [
    "mulherYIQ = rgb2yiq(triangulo)\n",
    "mulherRGB = yiq2rgb(mulherYIQ)\n",
    "\n",
    "cv.imshow(\"Janela1\", mulherYIQ)\n",
    "cv.imshow(\"Janela2\", mulherRGB)\n",
    "cv.waitKey(0)"
   ]
  },
  {
   "cell_type": "markdown",
   "metadata": {},
   "source": [
    "## 2. Separação RGB\n",
    "Exibir as bandas individuais (R, G, B) como imagens monocromáticas ou coloridas."
   ]
  },
  {
   "cell_type": "code",
   "execution_count": 6,
   "metadata": {},
   "outputs": [],
   "source": [
    "def bandaAzul(imagem):\n",
    "    #Fazendo uma copia da imagem, para reusar a original\n",
    "    copiaImagemAzul = imagem.copy()\n",
    "    #Como o openCV usa um sistema BGR\n",
    "    #0 é azul, 1 é verde, 2 é vermelho\n",
    "    copiaImagemAzul[:,:,1] = 0\n",
    "    copiaImagemAzul[:,:,2] = 0\n",
    "    return copiaImagemAzul\n",
    "\n",
    "def bandaVerde(imagem):\n",
    "    copiaImagemVerde = imagem.copy()\n",
    "    copiaImagemVerde[:,:,0] = 0\n",
    "    copiaImagemVerde[:,:,2] = 0\n",
    "    return copiaImagemVerde\n",
    "\n",
    "def bandaVermelho(imagem):\n",
    "    copiaImagemVermelho = imagem.copy()\n",
    "    copiaImagemVermelho[:,:,0] = 0\n",
    "    copiaImagemVermelho[:,:,1] = 0\n",
    "    return copiaImagemVermelho\n",
    "\n",
    "#Red = bandaVermelho(triangulo)\n",
    "#cv.imshow(\"red\", Red)\n",
    "#cv.waitKey(0)"
   ]
  },
  {
   "cell_type": "markdown",
   "metadata": {},
   "source": [
    "## 3 Negativo\n",
    "Primeiro em RGB, depois na banda Y com posterior conversão para RGB. "
   ]
  },
  {
   "cell_type": "code",
   "execution_count": 7,
   "metadata": {},
   "outputs": [],
   "source": [
    "def rgb_neg(imagem):\n",
    "    largura,altura,banda = imagem.shape\n",
    "    for linha in range(largura):\n",
    "        for coluna in range(altura):\n",
    "            azul = 255 - imagem[linha,coluna,0]\n",
    "            verde = 255 - imagem[linha,coluna,1]\n",
    "            vermelho = 255 - imagem[linha,coluna,2]\n",
    "            imagem[linha,coluna] = [azul, verde, vermelho]\n",
    "    return imagem"
   ]
  },
  {
   "cell_type": "code",
   "execution_count": 8,
   "metadata": {},
   "outputs": [
    {
     "data": {
      "text/plain": [
       "-1"
      ]
     },
     "execution_count": 8,
     "metadata": {},
     "output_type": "execute_result"
    }
   ],
   "source": [
    "#trianguloNegativo = triangulo.copy()\n",
    "#rgb_neg(trianguloNegativo)\n",
    "#cv.imshow(\"trianguloNegativo\", trianguloNegativo)\n",
    "#cv.waitKey(0)"
   ]
  },
  {
   "cell_type": "code",
   "execution_count": 81,
   "metadata": {},
   "outputs": [],
   "source": [
    "def yiq_neg(imagem):\n",
    "    largura,altura,banda = imagem.shape\n",
    "    imagemYiqNeg = imagem.copy()\n",
    "    for linha in range(largura):\n",
    "        for coluna in range(altura):\n",
    "            imagemYiqNeg[linha,coluna,2] = 1 - imagem[linha,coluna,2]\n",
    "    \n",
    "    imagemRgbNeg = yiq2rgb(imagemYiqNeg)\n",
    "    return imagemRgbNeg"
   ]
  },
  {
   "cell_type": "code",
   "execution_count": 93,
   "metadata": {},
   "outputs": [
    {
     "data": {
      "text/plain": [
       "-1"
      ]
     },
     "execution_count": 93,
     "metadata": {},
     "output_type": "execute_result"
    }
   ],
   "source": [
    "teste0 = yiq_neg(mulherYIQ)\n",
    "cv.imwrite(\"teste0.png\", teste0)\n",
    "cv.waitKey(0)"
   ]
  },
  {
   "cell_type": "markdown",
   "metadata": {},
   "source": [
    "## 4. Controle de brilho multiplicativo"
   ]
  },
  {
   "cell_type": "markdown",
   "metadata": {},
   "source": [
    "### RGB"
   ]
  },
  {
   "cell_type": "code",
   "execution_count": 15,
   "metadata": {},
   "outputs": [
    {
     "data": {
      "text/plain": [
       "-1"
      ]
     },
     "execution_count": 15,
     "metadata": {},
     "output_type": "execute_result"
    }
   ],
   "source": [
    "fator =  abs(10.0)\n",
    "def controle_de_brilho_RGB(imagem,fator):\n",
    "    copiaImagem = imagem.copy()\n",
    "    largura,altura,banda = copiaImagem.shape\n",
    "    if fator < 0:\n",
    "        return imagem\n",
    "    \n",
    "    for linha in range(largura):\n",
    "        for coluna in range(altura):\n",
    "            pix = copiaImagem[linha,coluna].copy()\n",
    "            \n",
    "            #Vermelho\n",
    "            pixR = pix[2]*fator\n",
    "            if pixR > 255:\n",
    "                pixR = 255\n",
    "            elif pixR < 0:\n",
    "                pixR = 0\n",
    "            copiaImagem[linha,coluna,2] = pixR\n",
    "            \n",
    "            #Verde\n",
    "            pixG = pix[1]*fator\n",
    "            if pixG > 255:\n",
    "                pixG = 255\n",
    "            elif pixG < 0:\n",
    "                pixG = 0\n",
    "            copiaImagem[linha,coluna,1] = pixG\n",
    "            \n",
    "            #Azul\n",
    "            pixA = pix[0]*fator\n",
    "            if pixA > 255:\n",
    "                pixA = 255\n",
    "            elif pixA < 0:\n",
    "                pixA = 0\n",
    "            copiaImagem[linha,coluna,0] = pixA\n",
    "    return np.uint8(copiaImagem)"
   ]
  },
  {
   "cell_type": "code",
   "execution_count": null,
   "metadata": {},
   "outputs": [],
   "source": [
    "#mulher2 = controle_de_brilho_RGB(mulher.copy(), fator)\n",
    "#cv.imshow(\"mulher\", mulher)\n",
    "#cv.imshow(\"mulher2\", mulher2)\n",
    "#cv.waitKey(0)"
   ]
  },
  {
   "cell_type": "markdown",
   "metadata": {},
   "source": [
    "### Banda Y"
   ]
  },
  {
   "cell_type": "code",
   "execution_count": 19,
   "metadata": {},
   "outputs": [],
   "source": [
    "def controle_de_brilho_YIQ(imagem,fator):\n",
    "    imagemCopia = imagem.copy()\n",
    "    largura,altura,banda = imagemCopia.shape\n",
    "\n",
    "    if fator < 0:\n",
    "        return imagemCopia\n",
    "\n",
    "    imagemYIQ = rgb2yiq(imagemCopia)\n",
    "\n",
    "    for linha in range(largura):\n",
    "        for coluna in range(altura):\n",
    "            Y = imagemYIQ[linha,coluna,2].copy()\n",
    "            Y *= fator\n",
    "            #Y\n",
    "            if Y > 1:\n",
    "                Y = 1\n",
    "            elif Y < 0:\n",
    "                Y = 0\n",
    "            imagemYIQ[linha,coluna,2] = Y\n",
    "\n",
    "    imagemRGB = yiq2rgb(imagemYIQ)\n",
    "    return imagemRGB"
   ]
  },
  {
   "cell_type": "code",
   "execution_count": 20,
   "metadata": {
    "scrolled": true
   },
   "outputs": [
    {
     "data": {
      "text/plain": [
       "-1"
      ]
     },
     "execution_count": 20,
     "metadata": {},
     "output_type": "execute_result"
    }
   ],
   "source": [
    "#mulher2 = controle_de_brilho_YIQ(mulher.copy(), fator)\n",
    "#cv.imshow(\"mulher\", mulher)\n",
    "#cv.imshow(\"mulher2\", mulher2)\n",
    "#cv.waitKey(0)"
   ]
  },
  {
   "cell_type": "markdown",
   "metadata": {},
   "source": [
    "### Moda "
   ]
  },
  {
   "cell_type": "code",
   "execution_count": 101,
   "metadata": {},
   "outputs": [],
   "source": [
    "def moda(lst):\n",
    "    \n",
    "    # test for count lst elements\n",
    "    lst_count = [[x, lst.count(x)] for x in set(lst)]\n",
    "    \n",
    "    # remove count <= 1\n",
    "    lst_count = [x for x in set(lst) if lst.count(x) > 1]\n",
    "    \n",
    "    if (len(lst_count) == 0):\n",
    "        return mean(lst)\n",
    "    else:\n",
    "        return lst_count[0]"
   ]
  },
  {
   "cell_type": "code",
   "execution_count": 102,
   "metadata": {},
   "outputs": [],
   "source": [
    "#'m' é a mascara a ser utilizada. No caso será utilizado uma máscara m x m\n",
    "def modaRGB(imagem, m, n):\n",
    "    img = imagem.copy()\n",
    "    largura,altura,banda = img.shape\n",
    "    limiteM = floor(m/2)\n",
    "    limiteN = floor(n/2)\n",
    "    if (limiteM < 1 or limiteN < 1):\n",
    "        return img\n",
    "    \n",
    "    mascR = []\n",
    "    mascG = [] \n",
    "    mascB = []\n",
    "    \n",
    "    for i in range(largura):\n",
    "        \n",
    "        if (i == 0 or i >= largura-1):\n",
    "            continue\n",
    "        \n",
    "        for j in range(altura):\n",
    "          \n",
    "            if (j == 0 or j >= altura-1):\n",
    "                continue\n",
    "            \n",
    "            for x in range(i-limiteM, limiteM+i+1):\n",
    "                for y in range(j-limiteN, limiteN+j+1):\n",
    "                    \n",
    "                    if ( x >= 0 and y >= 0 and x < largura and y < altura ):\n",
    "                        mascR.append(imagem[x, y, 2])\n",
    "                        mascG.append(imagem[x, y, 1])\n",
    "                        mascB.append(imagem[x, y, 0])\n",
    "                        #print(imagem[x, y, 2])\n",
    "                    else:\n",
    "                        mascR.append(0)\n",
    "                        mascG.append(0)\n",
    "                        mascB.append(0)\n",
    "            \n",
    "            #print(\"masc: \", mascR)\n",
    "            modaR = moda(mascR)\n",
    "            #print(\"Moda:\", modaR)\n",
    "            modaG = moda(mascG)\n",
    "            modaB = moda(mascB)\n",
    "\n",
    "            \n",
    "            img[i, j] = [modaB, modaG, modaR]\n",
    "            #print(img[i,j])\n",
    "            \n",
    "            mascR.clear()\n",
    "            mascG.clear()\n",
    "            mascB.clear()\n",
    "    \n",
    "    return img"
   ]
  },
  {
   "cell_type": "markdown",
   "metadata": {},
   "source": [
    "### Mediana"
   ]
  },
  {
   "cell_type": "code",
   "execution_count": 103,
   "metadata": {},
   "outputs": [],
   "source": [
    "def medianaRGB(imagem, m, n):\n",
    "    img = imagem.copy()\n",
    "    largura,altura,banda = img.shape\n",
    "    limiteM = floor(m/2)\n",
    "    limiteN = floor(n/2)\n",
    "    if (limiteM < 1 or limiteN < 1):\n",
    "        return img\n",
    "    \n",
    "    mascR = []\n",
    "    mascG = [] \n",
    "    mascB = []\n",
    "    for i in range(largura):\n",
    "        for j in range(altura):\n",
    "            \n",
    "            for x in range(i-limiteM, limiteM+i+1):\n",
    "                for y in range(j-limiteN, limiteN+j+1):\n",
    "\n",
    "                    if ( x >= 0 and y >= 0 and x < largura and y < altura ):\n",
    "                        mascR.append(imagem[x, y, 2])\n",
    "                        mascG.append(imagem[x, y, 1])\n",
    "                        mascB.append(imagem[x, y, 0])\n",
    "                        #print(imagem[x, y, 2])\n",
    "                    else:\n",
    "                        mascR.append(0)\n",
    "                        mascG.append(0)\n",
    "                        mascB.append(0)\n",
    "            \n",
    "            medianaR = median(sorted(mascR))\n",
    "            medianaG = median(sorted(mascG))\n",
    "            medianaB = median(sorted(mascB))\n",
    "            \n",
    "            img[i][j] = [medianaR, medianaG, medianaB]\n",
    "            \n",
    "            mascR.clear()\n",
    "            mascG.clear()\n",
    "            mascB.clear()\n",
    "    \n",
    "    return img"
   ]
  },
  {
   "cell_type": "markdown",
   "metadata": {},
   "source": [
    "### Convolução"
   ]
  },
  {
   "cell_type": "code",
   "execution_count": 138,
   "metadata": {},
   "outputs": [],
   "source": [
    "def convRGB(imagem, mascara):\n",
    "    larguraImagem, alturaImagem, bandaImagem = imagem.shape\n",
    "    larguraMascara, alturaMascara = mascara.shape\n",
    "    img = np.zeros(imagem.shape, dtype=int)\n",
    "    \n",
    "    limiteM = floor(alturaMascara/2)\n",
    "    limiteN = floor(larguraMascara/2)\n",
    "    print (limiteM)\n",
    "    \n",
    "    for i in range(larguraImagem):\n",
    "        for j in range(alturaImagem):\n",
    "\n",
    "            mascaraX = 0\n",
    "            mascaraY = 0\n",
    "            \n",
    "            for x in range(i-limiteM, limiteM+i+1):\n",
    "                for y in range(j-limiteN, limiteN+j+1):\n",
    "                    #print (j-limiteN, limiteN+j+1)\n",
    "                    \n",
    "                    #print(mascaraX, mascaraY)\n",
    "                    if ( x >= 0 and y >= 0 and x < larguraImagem and y < alturaImagem ):\n",
    "                        \n",
    "                        img[i, j, 2] += round(imagem[x, y, 2] * mascara[mascaraX, mascaraY])\n",
    "                        img[i, j, 1] += round(imagem[x, y, 1] * mascara[mascaraX, mascaraY])\n",
    "                        img[i, j, 0] += round(imagem[x, y, 0] * mascara[mascaraX, mascaraY])\n",
    "                        mascaraY += 1\n",
    "                        continue\n",
    "                    else:\n",
    "                        mascaraY += 1\n",
    "                        continue\n",
    "                    \n",
    "                mascaraX += 1\n",
    "                mascaraY = 0\n",
    "                    \n",
    "            for z in range(3):\n",
    "                if ( img[i, j, z] < 0 ):\n",
    "                    img[i, j, z] = 0\n",
    "                \n",
    "                if ( img[i, j, z] > 255 ):\n",
    "                    img[i, j, z] = 255\n",
    "    \n",
    "    return img"
   ]
  },
  {
   "cell_type": "code",
   "execution_count": 142,
   "metadata": {},
   "outputs": [
    {
     "data": {
      "text/plain": [
       "True"
      ]
     },
     "execution_count": 142,
     "metadata": {},
     "output_type": "execute_result"
    }
   ],
   "source": [
    "modaMulher = medianaRGB(mulherpequena, 5, 5)\n",
    "cv.imwrite(\"medianaMulher.jpg\", modaMulher)"
   ]
  },
  {
   "cell_type": "code",
   "execution_count": 141,
   "metadata": {},
   "outputs": [
    {
     "name": "stdout",
     "output_type": "stream",
     "text": [
      "[[0 0 0]\n",
      " [0 1 0]\n",
      " [0 0 0]]\n",
      "1\n"
     ]
    },
    {
     "data": {
      "text/plain": [
       "True"
      ]
     },
     "execution_count": 141,
     "metadata": {},
     "output_type": "execute_result"
    }
   ],
   "source": [
    "mascara = np.loadtxt(\"input.txt\", dtype='i', delimiter=',')\n",
    "print (mascara)\n",
    "convMulher = convRGB(mulherpequena, mascara)\n",
    "cv.imwrite(\"convMulher.jpg\", convMulher)"
   ]
  },
  {
   "cell_type": "code",
   "execution_count": null,
   "metadata": {},
   "outputs": [],
   "source": []
  }
 ],
 "metadata": {
  "kernelspec": {
   "display_name": "Python 3",
   "language": "python",
   "name": "python3"
  },
  "language_info": {
   "codemirror_mode": {
    "name": "ipython",
    "version": 3
   },
   "file_extension": ".py",
   "mimetype": "text/x-python",
   "name": "python",
   "nbconvert_exporter": "python",
   "pygments_lexer": "ipython3",
   "version": "3.7.4"
  }
 },
 "nbformat": 4,
 "nbformat_minor": 2
}
